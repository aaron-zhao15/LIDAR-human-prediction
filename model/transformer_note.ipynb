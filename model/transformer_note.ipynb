{
 "cells": [
  {
   "cell_type": "code",
   "execution_count": 1,
   "metadata": {},
   "outputs": [],
   "source": [
    "import time\n",
    "import numpy as np\n",
    "import logging\n",
    "import data_utils\n",
    "from TrajectoryDataset import TrajectoryDataset\n",
    "\n",
    "from models import *\n",
    "\n",
    "import torch\n",
    "import torch.nn as nn\n",
    "from torch.utils.data import TensorDataset\n",
    "from torch.utils.data import DataLoader\n",
    "from torch.optim import AdamW\n",
    "\n",
    "import train_utils"
   ]
  },
  {
   "cell_type": "code",
   "execution_count": 20,
   "metadata": {},
   "outputs": [
    {
     "name": "stdout",
     "output_type": "stream",
     "text": [
      "MultiHeadAttention(\n",
      "  (linears): ModuleList(\n",
      "    (0-3): 4 x Linear(in_features=512, out_features=512, bias=True)\n",
      "  )\n",
      "  (dropout): Dropout(p=0.1, inplace=False)\n",
      ")\n",
      "torch.Size([8, 50, 50])\n",
      "Parameter containing:\n",
      "tensor([[-0.0989, -0.0679, -0.0254,  ..., -0.0107, -0.0355,  0.0198],\n",
      "        [-0.0529,  0.0107,  0.0245,  ..., -0.0204,  0.0333, -0.0366],\n",
      "        [-0.0829,  0.1316,  0.1065,  ...,  0.0379, -0.0688, -0.1450],\n",
      "        ...,\n",
      "        [-0.1003, -0.0297,  0.0946,  ...,  0.0542, -0.0440, -0.0282],\n",
      "        [-0.0594,  0.0536,  0.0495,  ..., -0.0109, -0.1294,  0.0612],\n",
      "        [-0.0427, -0.0107,  0.0896,  ..., -0.0110,  0.0014, -0.0448]],\n",
      "       device='cuda:0', requires_grad=True)\n"
     ]
    }
   ],
   "source": [
    "model = torch.load('TransformerModel5.pt')\n",
    "\n",
    "sample_attention = model.model.encoder.layers[0].self_attn\n",
    "\n",
    "print(sample_attention)\n",
    "\n",
    "sample_attention_attn = sample_attention.attn\n",
    "sample_attention_linears = sample_attention.linears\n",
    "\n",
    "print(sample_attention_attn[-1].shape)\n",
    "\n",
    "print(sample_attention_linears[-1].weight)\n"
   ]
  }
 ],
 "metadata": {
  "kernelspec": {
   "display_name": "base",
   "language": "python",
   "name": "python3"
  },
  "language_info": {
   "codemirror_mode": {
    "name": "ipython",
    "version": 3
   },
   "file_extension": ".py",
   "mimetype": "text/x-python",
   "name": "python",
   "nbconvert_exporter": "python",
   "pygments_lexer": "ipython3",
   "version": "3.11.5"
  }
 },
 "nbformat": 4,
 "nbformat_minor": 2
}
