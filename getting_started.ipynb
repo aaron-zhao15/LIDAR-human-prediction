{
 "cells": [
  {
   "cell_type": "markdown",
   "metadata": {},
   "source": [
    "# Getting started: Display MoGaze data with humoro\n",
    "\n",
    "This notebook describes how to get started using the [MoGaze dataset](https://humans-to-robots-motion.github.io/mogaze/) with our pybullet based library [humoro](https://github.com/PhilippJKratzer/humoro).\n",
    "\n",
    "\n",
    "## Installation\n",
    "The installation is tested on Ubuntu 18.04.\n",
    "\n",
    "The packages python3 and python3-pip need to be installed and upgraded (skip if python already is installed):\n",
    "```bash\n",
    "sudo apt install python3\n",
    "sudo apt install python3-pip\n",
    "python3 -m pip install --upgrade pip --user\n",
    "```\n",
    "\n",
    "For parts of the software qt5 is used, it can be installed using:\n",
    "```bash\n",
    "sudo apt install qt5-default\n",
    "```\n",
    "\n",
    "Clone the repository:\n",
    "```bash\n",
    "git clone https://github.com/PhilippJKratzer/humoro.git\n",
    "```\n",
    "\n",
    "The requirements can be installed using:\n",
    "```bash\n",
    "cd humoro\n",
    "python3 -m pip install -r requirements.txt --user\n",
    "```\n",
    "    \n",
    "Finally, you can install humoro system-wide using:\n",
    "```bash\n",
    "sudo python3 setup.py install\n",
    "```\n",
    "\n",
    "Download the dataset files:\n",
    "```bash\n",
    "wget pkratzer.net/mogaze.zip\n",
    "unzip mogaze.zip\n",
    "```\n"
   ]
  },
  {
   "cell_type": "markdown",
   "metadata": {},
   "source": [
    "## Playback Human data\n",
    "Let's first have a closer look into the human data only. We can load a trajectory from file using the following:\n"
   ]
  },
  {
   "cell_type": "code",
   "execution_count": 2,
   "metadata": {},
   "outputs": [],
   "source": [
    "from humoro.humoro.trajectory import Trajectory\n",
    "\n",
    "full_traj = Trajectory()\n",
    "full_traj.loadTrajHDF5(\"humoro/mogaze/p1_1_human_data.hdf5\")"
   ]
  },
  {
   "cell_type": "markdown",
   "metadata": {},
   "source": [
    "The trajectory contains a data array, a description of the joints and some fixed joints for scaling:\n"
   ]
  },
  {
   "cell_type": "code",
   "execution_count": 3,
   "metadata": {},
   "outputs": [
    {
     "name": "stdout",
     "output_type": "stream",
     "text": [
      "The data has dimension timeframe, state_size:\n",
      "(53899, 66)\n",
      "\n",
      "This is a list of jointnames (from the urdf) corresponding to the state dimensions:\n",
      "['baseTransX', 'baseTransY', 'baseTransZ', 'baseRotX', 'baseRotY', 'baseRotZ', 'pelvisRotX', 'pelvisRotY', 'pelvisRotZ', 'torsoRotX', 'torsoRotY', 'torsoRotZ', 'neckRotX', 'neckRotY', 'neckRotZ', 'headRotX', 'headRotY', 'headRotZ', 'linnerShoulderRotX', 'linnerShoulderRotY', 'linnerShoulderRotZ', 'lShoulderRotX', 'lShoulderRotY', 'lShoulderRotZ', 'lElbowRotX', 'lElbowRotY', 'lElbowRotZ', 'lWristRotX', 'lWristRotY', 'lWristRotZ', 'rinnerShoulderRotX', 'rinnerShoulderRotY', 'rinnerShoulderRotZ', 'rShoulderRotX', 'rShoulderRotY', 'rShoulderRotZ', 'rElbowRotX', 'rElbowRotY', 'rElbowRotZ', 'rWristRotX', 'rWristRotY', 'rWristRotZ', 'lHipRotX', 'lHipRotY', 'lHipRotZ', 'lKneeRotX', 'lKneeRotY', 'lKneeRotZ', 'lAnkleRotX', 'lAnkleRotY', 'lAnkleRotZ', 'lToeRotX', 'lToeRotY', 'lToeRotZ', 'rHipRotX', 'rHipRotY', 'rHipRotZ', 'rKneeRotX', 'rKneeRotY', 'rKneeRotZ', 'rAnkleRotX', 'rAnkleRotY', 'rAnkleRotZ', 'rToeRotX', 'rToeRotY', 'rToeRotZ']\n",
      "\n",
      "Some joints are used for scaling the human and do not change over time\n",
      "They are available in a dictionary:\n",
      "{'pelvisTransX': 3.477253617581374e-11, 'pelvisTransY': 9.836376779497708e-11, 'pelvisTransZ': 0.07405368236962184, 'torsoTransX': -1.0047164753054265e-05, 'torsoTransY': -3.0239514916602615e-05, 'torsoTransZ': 0.20083891659362765, 'neckTransX': -1.2600904410529728e-10, 'neckTransY': -1.7764181211437644e-09, 'neckTransZ': 0.23359122887702816, 'headTransX': 3.1869674957629284e-09, 'headTransY': -0.018057959551160224, 'headTransZ': 0.13994911705542687, 'linnerShoulderTransX': 0.036502066101529215, 'linnerShoulderTransY': 0.00031381713305931404, 'linnerShoulderTransZ': 0.1832770110533476, 'lShoulderTransX': 0.15280389623890986, 'lShoulderTransY': -1.1382671917429665e-09, 'lShoulderTransZ': -8.843481859722201e-10, 'lElbowTransX': 0.24337935578849854, 'lElbowTransY': 3.1846829220430116e-09, 'lElbowTransZ': 1.4634072008156868e-08, 'lWristTransX': 0.2587863246939117, 'lWristTransY': -0.001083441187206969, 'lWristTransZ': -2.579650873773653e-05, 'rinnerShoulderTransX': -0.035725060316154335, 'rinnerShoulderTransY': 0.00031381736864692205, 'rinnerShoulderTransZ': 0.18327701132224603, 'rShoulderTransX': -0.15280389611921505, 'rShoulderTransY': 1.5047363672598406e-10, 'rShoulderTransZ': -3.5061608640836945e-10, 'rElbowTransX': -0.24337935345513284, 'rElbowTransY': 1.7367526549061563e-09, 'rElbowTransZ': 8.129849550012404e-09, 'rWristTransX': -0.26714046782640866, 'rWristTransY': -0.0018438929787374019, 'rWristTransZ': 0.0002976280123487421, 'lHipTransX': 0.09030938177511867, 'lHipTransY': -3.9169896274006325e-10, 'lHipTransZ': 6.535337361293777e-11, 'lKneeTransX': 2.3363012617863798e-09, 'lKneeTransY': -6.968930551857006e-09, 'lKneeTransZ': -0.3833567539280885, 'lAnkleTransX': -0.00022773850984784621, 'lAnkleTransY': -0.0010201879980305337, 'lAnkleTransZ': -0.35354742240551973, 'lToeTransX': -8.62756280059957e-10, 'lToeTransY': -0.13546407147725723, 'lToeTransZ': -0.05870108800865852, 'rHipTransX': -0.09030938169548784, 'rHipTransY': 3.1646243068853757e-10, 'rHipTransZ': -6.760126625141776e-11, 'rKneeTransX': -2.5236199070228006e-09, 'rKneeTransY': -1.1574579905441608e-09, 'rKneeTransZ': -0.38335675152180304, 'rAnkleTransX': 0.0005504841925316687, 'rAnkleTransY': 0.0004893600191017677, 'rAnkleTransZ': -0.3414929392712298, 'rToeTransX': -1.2153921360447088e-09, 'rToeTransY': -0.13546407016650086, 'rToeTransZ': -0.058701085864675616}\n"
     ]
    }
   ],
   "source": [
    "print(\"The data has dimension timeframe, state_size:\")\n",
    "print(full_traj.data.shape)\n",
    "print(\"\")\n",
    "print(\"This is a list of jointnames (from the urdf) corresponding to the state dimensions:\")\n",
    "print(list(full_traj.description))\n",
    "print(\"\")\n",
    "print(\"Some joints are used for scaling the human and do not change over time\")\n",
    "print(\"They are available in a dictionary:\")\n",
    "print(full_traj.data_fixed)"
   ]
  },
  {
   "cell_type": "markdown",
   "metadata": {},
   "source": [
    "To play the trajectory using the pybullet player, we spawn a human and add a trajectory to the human"
   ]
  },
  {
   "cell_type": "code",
   "execution_count": 12,
   "metadata": {},
   "outputs": [],
   "source": [
    "from humoro.humoro.player_pybullet import Player\n",
    "pp = Player()\n",
    "pp.spawnHuman(\"Human1\")\n",
    "pp.addPlaybackTraj(full_traj, \"Human1\")"
   ]
  },
  {
   "cell_type": "markdown",
   "metadata": {},
   "source": [
    "A specific frame can be displayed:"
   ]
  },
  {
   "cell_type": "code",
   "execution_count": 13,
   "metadata": {},
   "outputs": [],
   "source": [
    "pp.showFrame(3000)"
   ]
  },
  {
   "cell_type": "markdown",
   "metadata": {},
   "source": [
    "Or a sequence of frames can be played using:"
   ]
  },
  {
   "cell_type": "code",
   "execution_count": 14,
   "metadata": {},
   "outputs": [],
   "source": [
    "pp.play(duration=360, startframe=3000)\n",
    "# pp.play()"
   ]
  },
  {
   "cell_type": "markdown",
   "metadata": {},
   "source": [
    "There is also a possibility to use a Qt5 widget (pp.play_controls()) to allow fast forward and skipping through the file.  It has also some options for segmenting the data. We explain it in the segmentation section."
   ]
  },
  {
   "cell_type": "markdown",
   "metadata": {},
   "source": [
    "## Playback multiple humans at same time\n",
    "Often it is useful to display multiple human trajectories at the same time. For example, it can be used to show the output of a prediction and the ground truth at the same time. \n",
    "\n",
    "It can be achieved by spawning a second human and adding a trajectory to it. A trajectory also has an element *startframe*, which tells the player when a trajectory starts.\n",
    "\n"
   ]
  },
  {
   "cell_type": "code",
   "execution_count": 21,
   "metadata": {},
   "outputs": [
    {
     "ename": "ModuleNotFoundError",
     "evalue": "No module named 'individual_TF'",
     "output_type": "error",
     "traceback": [
      "\u001b[0;31m---------------------------------------------------------------------------\u001b[0m",
      "\u001b[0;31mModuleNotFoundError\u001b[0m                       Traceback (most recent call last)",
      "\u001b[0;32m<ipython-input-21-fd933e7c2aa9>\u001b[0m in \u001b[0;36m<module>\u001b[0;34m\u001b[0m\n\u001b[1;32m      2\u001b[0m \u001b[0;32mfrom\u001b[0m \u001b[0mmodel\u001b[0m\u001b[0;34m.\u001b[0m\u001b[0mindividual_TF\u001b[0m \u001b[0;32mimport\u001b[0m \u001b[0mIndividualTF\u001b[0m\u001b[0;34m\u001b[0m\u001b[0;34m\u001b[0m\u001b[0m\n\u001b[1;32m      3\u001b[0m \u001b[0;34m\u001b[0m\u001b[0m\n\u001b[0;32m----> 4\u001b[0;31m \u001b[0mTF_model\u001b[0m \u001b[0;34m=\u001b[0m \u001b[0mtorch\u001b[0m\u001b[0;34m.\u001b[0m\u001b[0mload\u001b[0m\u001b[0;34m(\u001b[0m\u001b[0;34m'model/trained_model_data/TransformerModel5.pt'\u001b[0m\u001b[0;34m)\u001b[0m\u001b[0;34m\u001b[0m\u001b[0;34m\u001b[0m\u001b[0m\n\u001b[0m\u001b[1;32m      5\u001b[0m \u001b[0;34m\u001b[0m\u001b[0m\n\u001b[1;32m      6\u001b[0m \u001b[0mpredicted_traj\u001b[0m \u001b[0;34m=\u001b[0m \u001b[0mTrajectory\u001b[0m\u001b[0;34m(\u001b[0m\u001b[0;34m)\u001b[0m\u001b[0;34m\u001b[0m\u001b[0;34m\u001b[0m\u001b[0m\n",
      "\u001b[0;32m~/.local/lib/python3.8/site-packages/torch/serialization.py\u001b[0m in \u001b[0;36mload\u001b[0;34m(f, map_location, pickle_module, weights_only, mmap, **pickle_load_args)\u001b[0m\n\u001b[1;32m   1012\u001b[0m                     \u001b[0;32mexcept\u001b[0m \u001b[0mRuntimeError\u001b[0m \u001b[0;32mas\u001b[0m \u001b[0me\u001b[0m\u001b[0;34m:\u001b[0m\u001b[0;34m\u001b[0m\u001b[0;34m\u001b[0m\u001b[0m\n\u001b[1;32m   1013\u001b[0m                         \u001b[0;32mraise\u001b[0m \u001b[0mpickle\u001b[0m\u001b[0;34m.\u001b[0m\u001b[0mUnpicklingError\u001b[0m\u001b[0;34m(\u001b[0m\u001b[0mUNSAFE_MESSAGE\u001b[0m \u001b[0;34m+\u001b[0m \u001b[0mstr\u001b[0m\u001b[0;34m(\u001b[0m\u001b[0me\u001b[0m\u001b[0;34m)\u001b[0m\u001b[0;34m)\u001b[0m \u001b[0;32mfrom\u001b[0m \u001b[0;32mNone\u001b[0m\u001b[0;34m\u001b[0m\u001b[0;34m\u001b[0m\u001b[0m\n\u001b[0;32m-> 1014\u001b[0;31m                 return _load(opened_zipfile,\n\u001b[0m\u001b[1;32m   1015\u001b[0m                              \u001b[0mmap_location\u001b[0m\u001b[0;34m,\u001b[0m\u001b[0;34m\u001b[0m\u001b[0;34m\u001b[0m\u001b[0m\n\u001b[1;32m   1016\u001b[0m                              \u001b[0mpickle_module\u001b[0m\u001b[0;34m,\u001b[0m\u001b[0;34m\u001b[0m\u001b[0;34m\u001b[0m\u001b[0m\n",
      "\u001b[0;32m~/.local/lib/python3.8/site-packages/torch/serialization.py\u001b[0m in \u001b[0;36m_load\u001b[0;34m(zip_file, map_location, pickle_module, pickle_file, overall_storage, **pickle_load_args)\u001b[0m\n\u001b[1;32m   1420\u001b[0m     \u001b[0munpickler\u001b[0m \u001b[0;34m=\u001b[0m \u001b[0mUnpicklerWrapper\u001b[0m\u001b[0;34m(\u001b[0m\u001b[0mdata_file\u001b[0m\u001b[0;34m,\u001b[0m \u001b[0;34m**\u001b[0m\u001b[0mpickle_load_args\u001b[0m\u001b[0;34m)\u001b[0m\u001b[0;34m\u001b[0m\u001b[0;34m\u001b[0m\u001b[0m\n\u001b[1;32m   1421\u001b[0m     \u001b[0munpickler\u001b[0m\u001b[0;34m.\u001b[0m\u001b[0mpersistent_load\u001b[0m \u001b[0;34m=\u001b[0m \u001b[0mpersistent_load\u001b[0m\u001b[0;34m\u001b[0m\u001b[0;34m\u001b[0m\u001b[0m\n\u001b[0;32m-> 1422\u001b[0;31m     \u001b[0mresult\u001b[0m \u001b[0;34m=\u001b[0m \u001b[0munpickler\u001b[0m\u001b[0;34m.\u001b[0m\u001b[0mload\u001b[0m\u001b[0;34m(\u001b[0m\u001b[0;34m)\u001b[0m\u001b[0;34m\u001b[0m\u001b[0;34m\u001b[0m\u001b[0m\n\u001b[0m\u001b[1;32m   1423\u001b[0m \u001b[0;34m\u001b[0m\u001b[0m\n\u001b[1;32m   1424\u001b[0m     \u001b[0mtorch\u001b[0m\u001b[0;34m.\u001b[0m\u001b[0m_utils\u001b[0m\u001b[0;34m.\u001b[0m\u001b[0m_validate_loaded_sparse_tensors\u001b[0m\u001b[0;34m(\u001b[0m\u001b[0;34m)\u001b[0m\u001b[0;34m\u001b[0m\u001b[0;34m\u001b[0m\u001b[0m\n",
      "\u001b[0;32m~/.local/lib/python3.8/site-packages/torch/serialization.py\u001b[0m in \u001b[0;36mfind_class\u001b[0;34m(self, mod_name, name)\u001b[0m\n\u001b[1;32m   1413\u001b[0m                     \u001b[0;32mpass\u001b[0m\u001b[0;34m\u001b[0m\u001b[0;34m\u001b[0m\u001b[0m\n\u001b[1;32m   1414\u001b[0m             \u001b[0mmod_name\u001b[0m \u001b[0;34m=\u001b[0m \u001b[0mload_module_mapping\u001b[0m\u001b[0;34m.\u001b[0m\u001b[0mget\u001b[0m\u001b[0;34m(\u001b[0m\u001b[0mmod_name\u001b[0m\u001b[0;34m,\u001b[0m \u001b[0mmod_name\u001b[0m\u001b[0;34m)\u001b[0m\u001b[0;34m\u001b[0m\u001b[0;34m\u001b[0m\u001b[0m\n\u001b[0;32m-> 1415\u001b[0;31m             \u001b[0;32mreturn\u001b[0m \u001b[0msuper\u001b[0m\u001b[0;34m(\u001b[0m\u001b[0;34m)\u001b[0m\u001b[0;34m.\u001b[0m\u001b[0mfind_class\u001b[0m\u001b[0;34m(\u001b[0m\u001b[0mmod_name\u001b[0m\u001b[0;34m,\u001b[0m \u001b[0mname\u001b[0m\u001b[0;34m)\u001b[0m\u001b[0;34m\u001b[0m\u001b[0;34m\u001b[0m\u001b[0m\n\u001b[0m\u001b[1;32m   1416\u001b[0m \u001b[0;34m\u001b[0m\u001b[0m\n\u001b[1;32m   1417\u001b[0m     \u001b[0;31m# Load the data (which may in turn use `persistent_load` to load tensors)\u001b[0m\u001b[0;34m\u001b[0m\u001b[0;34m\u001b[0m\u001b[0;34m\u001b[0m\u001b[0m\n",
      "\u001b[0;31mModuleNotFoundError\u001b[0m: No module named 'individual_TF'"
     ]
    }
   ],
   "source": [
    "import torch\n",
    "import model.individual_TF\n",
    "\n",
    "TF_model = torch.load('model/trained_model_data/TransformerModel5.pt')\n",
    "\n",
    "predicted_traj = Trajectory()\n",
    "\n"
   ]
  },
  {
   "cell_type": "code",
   "execution_count": null,
   "metadata": {},
   "outputs": [],
   "source": [
    "pp.spawnHuman(\"TrueFuture\", color=[0., 1., 0., 1.])\n",
    "# this extracts a subtrajectory from the full trajectory:\n",
    "sub_traj = full_traj.subTraj(3000, 3360)\n",
    "# we change the startframe of the sub_traj,\n",
    "# thus the player will play it at a different time:\n",
    "sub_traj.startframe = 4000\n",
    "pp.addPlaybackTraj(sub_traj, \"TrueFuture\")\n",
    "pp.play(duration=360, startframe=4000)"
   ]
  },
  {
   "cell_type": "markdown",
   "metadata": {},
   "source": [
    "## Loading Objects\n",
    "There is a helper function to directly spawn the objects and add the playback trajectories to the player:"
   ]
  },
  {
   "cell_type": "code",
   "execution_count": null,
   "metadata": {},
   "outputs": [],
   "source": [
    "from humoro.humoro.load_scenes import autoload_objects\n",
    "obj_trajs, obj_names = autoload_objects(pp, \"humoro/mogaze/p1_1_object_data.hdf5\", \"mogaze/scene.xml\")\n",
    "pp.play(duration=360, startframe=3000)"
   ]
  },
  {
   "cell_type": "markdown",
   "metadata": {},
   "source": [
    "You can access the object trajectories and names:"
   ]
  },
  {
   "cell_type": "code",
   "execution_count": null,
   "metadata": {},
   "outputs": [
    {
     "name": "stdout",
     "output_type": "stream",
     "text": [
      "objects:\n",
      "['table', 'cup_red', 'laiva_shelf', 'vesken_shelf', 'plate_blue', 'jug', 'goggles', 'plate_green', 'plate_red', 'cup_green', 'cup_blue', 'red_chair', 'cup_pink', 'plate_pink', 'bowl', 'blue_chair']\n",
      "data shape for first object:\n",
      "(53899, 7)\n"
     ]
    }
   ],
   "source": [
    "print(\"objects:\")\n",
    "print(obj_names)\n",
    "print(\"data shape for first object:\")\n",
    "print(obj_trajs[0].data.shape)  # 7 dimensions: 3 pos + 4 quaternion rotation"
   ]
  },
  {
   "cell_type": "markdown",
   "metadata": {},
   "source": [
    "## Loading Gaze\n",
    "The gaze can be loaded the following way. Only a trajectory of gaze direction points is loaded, the start point comes from the \"goggles\" object."
   ]
  },
  {
   "cell_type": "code",
   "execution_count": null,
   "metadata": {},
   "outputs": [
    {
     "name": "stdout",
     "output_type": "stream",
     "text": [
      "(53900, 3)\n"
     ]
    }
   ],
   "source": [
    "from humoro.humoro.gaze import load_gaze\n",
    "gaze_traj = load_gaze(\"mogaze/p1_1_gaze_data.hdf5\")\n",
    "pp.addPlaybackTrajGaze(gaze_traj)"
   ]
  },
  {
   "cell_type": "code",
   "execution_count": null,
   "metadata": {},
   "outputs": [],
   "source": [
    "pp.play(duration=360, startframe=3000)"
   ]
  },
  {
   "cell_type": "markdown",
   "metadata": {},
   "source": [
    "If you want to use the raw gaze data, the direction points need to be rotated by the calibration rotation:"
   ]
  },
  {
   "cell_type": "code",
   "execution_count": null,
   "metadata": {},
   "outputs": [
    {
     "name": "stdout",
     "output_type": "stream",
     "text": [
      "calibration rotation quaternion:\n",
      "[-0.31145353  0.37690775 -0.56556629  0.66413253]\n"
     ]
    }
   ],
   "source": [
    "print(\"calibration rotation quaternion:\")\n",
    "print(gaze_traj.data_fixed['calibration'])"
   ]
  },
  {
   "cell_type": "markdown",
   "metadata": {},
   "source": [
    "## Segmentations\n",
    "The following loads a small Qt5 Application that displays a time axis with the segmentations. The file is segmented into when an object moves.\n",
    "\n",
    "Note that opening the QApplication does not allow to spawn any new objects in pybullet.\n"
   ]
  },
  {
   "cell_type": "code",
   "execution_count": null,
   "metadata": {},
   "outputs": [
    {
     "ename": "TypeError",
     "evalue": "setSpacing(self, spacing: int): argument 1 has unexpected type 'float'",
     "output_type": "error",
     "traceback": [
      "\u001b[0;31m---------------------------------------------------------------------------\u001b[0m",
      "\u001b[0;31mTypeError\u001b[0m                                 Traceback (most recent call last)",
      "Cell \u001b[0;32mIn[28], line 1\u001b[0m\n\u001b[0;32m----> 1\u001b[0m pp\u001b[38;5;241m.\u001b[39mplay_controls(\u001b[38;5;124m\"\u001b[39m\u001b[38;5;124mmogaze/p1_1_segmentations.hdf5\u001b[39m\u001b[38;5;124m\"\u001b[39m)\n",
      "File \u001b[0;32m~/Desktop/humoro/humoro/player_pybullet.py:165\u001b[0m, in \u001b[0;36mPlayer.play_controls\u001b[0;34m(self, path_segments)\u001b[0m\n\u001b[1;32m    163\u001b[0m \u001b[38;5;28;01mdef\u001b[39;00m \u001b[38;5;21mplay_controls\u001b[39m(\u001b[38;5;28mself\u001b[39m, path_segments\u001b[38;5;241m=\u001b[39m\u001b[38;5;28;01mNone\u001b[39;00m):\n\u001b[1;32m    164\u001b[0m     \u001b[38;5;28;01mimport\u001b[39;00m \u001b[38;5;21;01mhumoro\u001b[39;00m\u001b[38;5;21;01m.\u001b[39;00m\u001b[38;5;21;01mplay_controls\u001b[39;00m\n\u001b[0;32m--> 165\u001b[0m     humoro\u001b[38;5;241m.\u001b[39mplay_controls\u001b[38;5;241m.\u001b[39mstartwindow(path_segments\u001b[38;5;241m=\u001b[39mpath_segments, playback_func\u001b[38;5;241m=\u001b[39m\u001b[38;5;28mself\u001b[39m\u001b[38;5;241m.\u001b[39mshowFrame, time_start\u001b[38;5;241m=\u001b[39m\u001b[38;5;28mself\u001b[39m\u001b[38;5;241m.\u001b[39m_start_playback, time_end\u001b[38;5;241m=\u001b[39m\u001b[38;5;28mself\u001b[39m\u001b[38;5;241m.\u001b[39m_end_playback, fps\u001b[38;5;241m=\u001b[39m\u001b[38;5;28mself\u001b[39m\u001b[38;5;241m.\u001b[39m_fps)\n",
      "File \u001b[0;32m~/Desktop/humoro/humoro/play_controls.py:486\u001b[0m, in \u001b[0;36mstartwindow\u001b[0;34m(path_segments, playback_func, time_start, time_end, fps)\u001b[0m\n\u001b[1;32m    484\u001b[0m \u001b[38;5;28;01mdef\u001b[39;00m \u001b[38;5;21mstartwindow\u001b[39m(path_segments\u001b[38;5;241m=\u001b[39m\u001b[38;5;28;01mNone\u001b[39;00m, playback_func\u001b[38;5;241m=\u001b[39m\u001b[38;5;28;01mNone\u001b[39;00m, time_start\u001b[38;5;241m=\u001b[39m\u001b[38;5;28;01mNone\u001b[39;00m, time_end\u001b[38;5;241m=\u001b[39m\u001b[38;5;28;01mNone\u001b[39;00m, fps\u001b[38;5;241m=\u001b[39m\u001b[38;5;28;01mNone\u001b[39;00m):\n\u001b[1;32m    485\u001b[0m     app \u001b[38;5;241m=\u001b[39m QtWidgets\u001b[38;5;241m.\u001b[39mQApplication([\u001b[38;5;124m\"\u001b[39m\u001b[38;5;124mPlayback Controls\u001b[39m\u001b[38;5;124m\"\u001b[39m])\n\u001b[0;32m--> 486\u001b[0m     window \u001b[38;5;241m=\u001b[39m Window(path_segments\u001b[38;5;241m=\u001b[39mpath_segments, playback_func\u001b[38;5;241m=\u001b[39mplayback_func, time_start\u001b[38;5;241m=\u001b[39mtime_start, time_end\u001b[38;5;241m=\u001b[39mtime_end, fps\u001b[38;5;241m=\u001b[39mfps)\n\u001b[1;32m    487\u001b[0m     window\u001b[38;5;241m.\u001b[39mshow()\n\u001b[1;32m    488\u001b[0m     app\u001b[38;5;241m.\u001b[39mexec_()\n",
      "File \u001b[0;32m~/Desktop/humoro/humoro/play_controls.py:309\u001b[0m, in \u001b[0;36mWindow.__init__\u001b[0;34m(self, path_segments, playback_func, time_start, time_end, fps, parent)\u001b[0m\n\u001b[1;32m    307\u001b[0m widget_vbox \u001b[38;5;241m=\u001b[39m QtWidgets\u001b[38;5;241m.\u001b[39mQWidget()\n\u001b[1;32m    308\u001b[0m vbox \u001b[38;5;241m=\u001b[39m QtWidgets\u001b[38;5;241m.\u001b[39mQVBoxLayout()\n\u001b[0;32m--> 309\u001b[0m vbox\u001b[38;5;241m.\u001b[39msetSpacing(\u001b[38;5;241m10.0\u001b[39m \u001b[38;5;241m*\u001b[39m \u001b[38;5;28mself\u001b[39m\u001b[38;5;241m.\u001b[39mlogicalDpiY() \u001b[38;5;241m/\u001b[39m \u001b[38;5;241m96.0\u001b[39m)\n\u001b[1;32m    310\u001b[0m widget_vbox\u001b[38;5;241m.\u001b[39msetLayout(vbox)\n\u001b[1;32m    311\u001b[0m \u001b[38;5;28mself\u001b[39m\u001b[38;5;241m.\u001b[39msetCentralWidget(widget_vbox)\n",
      "\u001b[0;31mTypeError\u001b[0m: setSpacing(self, spacing: int): argument 1 has unexpected type 'float'"
     ]
    }
   ],
   "source": [
    "pp.play_controls(\"mogaze/p1_1_segmentations.hdf5\")"
   ]
  },
  {
   "cell_type": "markdown",
   "metadata": {},
   "source": [
    "The label \"null\" means that no object moves at the moment (e.g. when the human moves towards an object to pick it up.\n",
    "\n",
    "It is also possible to directly use the segmentation file, it contains elements of the form (startframe, endframe, label):"
   ]
  },
  {
   "cell_type": "code",
   "execution_count": null,
   "metadata": {},
   "outputs": [
    {
     "name": "stdout",
     "output_type": "stream",
     "text": [
      "(0, 2027, b'null')\n",
      "(2027, 2429, b'plate_red')\n",
      "(2430, 2817, b'null')\n",
      "(2818, 3252, b'plate_green')\n",
      "(3253, 3673, b'null')\n"
     ]
    }
   ],
   "source": [
    "import h5py\n",
    "with h5py.File(\"mogaze/p1_1_segmentations.hdf5\", \"r\") as segfile:\n",
    "    # print first 5 segments:\n",
    "    for i in range(5):\n",
    "        print(segfile[\"segments\"][i])"
   ]
  },
  {
   "cell_type": "markdown",
   "metadata": {},
   "source": [
    "## Kinematics\n",
    "In order to compute positions from the joint angle trajectory, pybullet can be used. We have a small helper class, which can be used like this:"
   ]
  },
  {
   "cell_type": "code",
   "execution_count": null,
   "metadata": {},
   "outputs": [
    {
     "name": "stdout",
     "output_type": "stream",
     "text": [
      "argv[0]=\n",
      "position of right wrist:\n",
      "[0.20642142 0.12073594 0.76067251]\n"
     ]
    }
   ],
   "source": [
    "from humoro.humoro.kin_pybullet import HumanKin\n",
    "kinematics = HumanKin()\n",
    "kinematics.set_state(full_traj, 100)  # set state at frame 100\n",
    "print(\"position of right wrist:\")\n",
    "wrist_id = kinematics.inv_index[\"rWristRotZ\"]\n",
    "pos = kinematics.get_position(wrist_id)\n",
    "print(pos)"
   ]
  },
  {
   "cell_type": "markdown",
   "metadata": {},
   "source": [
    "The Jacobian can be retreived with:"
   ]
  },
  {
   "cell_type": "code",
   "execution_count": null,
   "metadata": {},
   "outputs": [
    {
     "name": "stdout",
     "output_type": "stream",
     "text": [
      "[[ 5.55111512e-17  7.60672507e-01 -1.20735945e-01  1.00000000e+00\n",
      "  -2.22044605e-16 -1.11022302e-16  1.00000000e+00 -2.22044605e-16\n",
      "  -1.11022302e-16  6.24500451e-17 -2.50631895e-02 -1.08006761e-01\n",
      "   0.00000000e+00  0.00000000e+00  0.00000000e+00  0.00000000e+00\n",
      "   0.00000000e+00  0.00000000e+00  0.00000000e+00  0.00000000e+00\n",
      "   0.00000000e+00  0.00000000e+00  0.00000000e+00  0.00000000e+00\n",
      "   0.00000000e+00  0.00000000e+00  0.00000000e+00  0.00000000e+00\n",
      "   0.00000000e+00  0.00000000e+00  0.00000000e+00  1.64496211e-03\n",
      "   1.18043989e-03  1.00134685e-01 -1.07010249e-01 -9.99354955e-01\n",
      "   3.05702598e-02 -1.88449707e-02  1.12179663e-02  3.00429302e-01\n",
      "  -1.08263749e-01  0.00000000e+00  0.00000000e+00  0.00000000e+00\n",
      "   0.00000000e+00  0.00000000e+00  0.00000000e+00  0.00000000e+00\n",
      "   0.00000000e+00  0.00000000e+00  0.00000000e+00  0.00000000e+00\n",
      "   0.00000000e+00  0.00000000e+00  0.00000000e+00  0.00000000e+00\n",
      "   0.00000000e+00  0.00000000e+00  0.00000000e+00  0.00000000e+00\n",
      "   0.00000000e+00  0.00000000e+00  0.00000000e+00  0.00000000e+00\n",
      "   0.00000000e+00  0.00000000e+00  0.00000000e+00  0.00000000e+00\n",
      "   0.00000000e+00  0.00000000e+00 -9.99223162e-01  3.61791848e-02\n",
      "   1.56249373e-02  1.58090062e-02  4.70170570e-01 -1.53931311e-01\n",
      "  -9.99793879e-01 -9.68145015e-03  1.19375069e-01 -2.45363905e-01\n",
      "  -2.46743136e-01 -9.44927428e-02  1.02494185e-01 -2.43426651e-01\n",
      "  -3.53835300e-02  9.10986680e-01  4.10915167e-01  0.00000000e+00\n",
      "   0.00000000e+00  0.00000000e+00  0.00000000e+00  0.00000000e+00\n",
      "   0.00000000e+00  0.00000000e+00  0.00000000e+00  0.00000000e+00\n",
      "   0.00000000e+00  0.00000000e+00  0.00000000e+00  0.00000000e+00\n",
      "   0.00000000e+00  0.00000000e+00  0.00000000e+00  0.00000000e+00\n",
      "   0.00000000e+00  0.00000000e+00  0.00000000e+00  0.00000000e+00\n",
      "   0.00000000e+00]\n",
      " [-7.60672507e-01 -3.60822483e-16  2.06421420e-01 -2.22044605e-16\n",
      "   1.00000000e+00  5.55111512e-17 -2.22044605e-16  1.00000000e+00\n",
      "   5.55111512e-17  2.57091545e-02 -1.52997581e-03  2.55675343e-01\n",
      "   0.00000000e+00  0.00000000e+00  0.00000000e+00  0.00000000e+00\n",
      "   0.00000000e+00  0.00000000e+00  0.00000000e+00  0.00000000e+00\n",
      "   0.00000000e+00  0.00000000e+00  0.00000000e+00  0.00000000e+00\n",
      "   0.00000000e+00  0.00000000e+00  0.00000000e+00  0.00000000e+00\n",
      "   0.00000000e+00  0.00000000e+00  0.00000000e+00  5.98492351e-03\n",
      "  -9.93106893e-02  4.53596860e-04  2.53588915e-01 -3.05033915e-02\n",
      "  -9.99527342e-01 -3.82569412e-03 -3.05283966e-01  9.15638225e-03\n",
      "   2.63956457e-01  0.00000000e+00  0.00000000e+00  0.00000000e+00\n",
      "   0.00000000e+00  0.00000000e+00  0.00000000e+00  0.00000000e+00\n",
      "   0.00000000e+00  0.00000000e+00  0.00000000e+00  0.00000000e+00\n",
      "   0.00000000e+00  0.00000000e+00  0.00000000e+00  0.00000000e+00\n",
      "   0.00000000e+00  0.00000000e+00  0.00000000e+00  0.00000000e+00\n",
      "   0.00000000e+00  0.00000000e+00  0.00000000e+00  0.00000000e+00\n",
      "   0.00000000e+00  0.00000000e+00  0.00000000e+00  0.00000000e+00\n",
      "   0.00000000e+00  0.00000000e+00 -3.61769804e-02 -9.99345309e-01\n",
      "   4.23801433e-04 -4.79434404e-01  3.96621759e-02  2.25083852e-01\n",
      "   1.79179643e-02 -4.81052848e-01  6.08471637e-02  4.29639795e-01\n",
      "  -2.47151767e-02 -5.30562368e-02  2.08569252e-01  1.03973025e-01\n",
      "  -3.84983276e-01 -3.91864602e-01  8.35601586e-01  0.00000000e+00\n",
      "   0.00000000e+00  0.00000000e+00  0.00000000e+00  0.00000000e+00\n",
      "   0.00000000e+00  0.00000000e+00  0.00000000e+00  0.00000000e+00\n",
      "   0.00000000e+00  0.00000000e+00  0.00000000e+00  0.00000000e+00\n",
      "   0.00000000e+00  0.00000000e+00  0.00000000e+00  0.00000000e+00\n",
      "   0.00000000e+00  0.00000000e+00  0.00000000e+00  0.00000000e+00\n",
      "   0.00000000e+00]\n",
      " [ 1.20735945e-01 -2.06421420e-01  0.00000000e+00 -1.11022302e-16\n",
      "   5.55111512e-17  1.00000000e+00 -1.11022302e-16  5.55111512e-17\n",
      "   1.00000000e+00  1.07854971e-01 -2.55633399e-01 -1.35255640e-03\n",
      "   0.00000000e+00  0.00000000e+00  0.00000000e+00  0.00000000e+00\n",
      "   0.00000000e+00  0.00000000e+00  0.00000000e+00  0.00000000e+00\n",
      "   0.00000000e+00  0.00000000e+00  0.00000000e+00  0.00000000e+00\n",
      "   0.00000000e+00  0.00000000e+00  0.00000000e+00  0.00000000e+00\n",
      "   0.00000000e+00  0.00000000e+00  0.00000000e+00  9.99980737e-01\n",
      "  -1.03903052e-01  2.56960600e-01 -1.04664490e-03 -1.89530159e-02\n",
      "  -3.24839085e-03  9.99815098e-01 -1.00170540e-01  2.62470770e-01\n",
      "   1.57994219e-03  0.00000000e+00  0.00000000e+00  0.00000000e+00\n",
      "   0.00000000e+00  0.00000000e+00  0.00000000e+00  0.00000000e+00\n",
      "   0.00000000e+00  0.00000000e+00  0.00000000e+00  0.00000000e+00\n",
      "   0.00000000e+00  0.00000000e+00  0.00000000e+00  0.00000000e+00\n",
      "   0.00000000e+00  0.00000000e+00  0.00000000e+00  0.00000000e+00\n",
      "   0.00000000e+00  0.00000000e+00  0.00000000e+00  0.00000000e+00\n",
      "   0.00000000e+00  0.00000000e+00  0.00000000e+00  0.00000000e+00\n",
      "   0.00000000e+00  0.00000000e+00  1.56300406e-02 -1.41790842e-04\n",
      "   9.99877833e-01 -9.90249376e-02  2.23530666e-01 -2.04252809e-02\n",
      "   9.54702615e-03 -1.11025866e-01  3.07058320e-02  6.33374080e-02\n",
      "   9.68765702e-01 -2.54207285e-02  9.13002229e-02  3.60625146e-02\n",
      "   9.22245023e-01 -1.28628934e-01  3.64580190e-01  0.00000000e+00\n",
      "   0.00000000e+00  0.00000000e+00  0.00000000e+00  0.00000000e+00\n",
      "   0.00000000e+00  0.00000000e+00  0.00000000e+00  0.00000000e+00\n",
      "   0.00000000e+00  0.00000000e+00  0.00000000e+00  0.00000000e+00\n",
      "   0.00000000e+00  0.00000000e+00  0.00000000e+00  0.00000000e+00\n",
      "   0.00000000e+00  0.00000000e+00  0.00000000e+00  0.00000000e+00\n",
      "   0.00000000e+00]]\n"
     ]
    }
   ],
   "source": [
    "print(kinematics.get_jacobian(wrist_id))"
   ]
  }
 ],
 "metadata": {
  "kernelspec": {
   "display_name": "Python 3",
   "language": "python",
   "name": "python3"
  },
  "language_info": {
   "codemirror_mode": {
    "name": "ipython",
    "version": 3
   },
   "file_extension": ".py",
   "mimetype": "text/x-python",
   "name": "python",
   "nbconvert_exporter": "python",
   "pygments_lexer": "ipython3",
   "version": "3.8.10"
  }
 },
 "nbformat": 4,
 "nbformat_minor": 2
}
